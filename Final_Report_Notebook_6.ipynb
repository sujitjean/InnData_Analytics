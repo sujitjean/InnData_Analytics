{
 "cells": [
  {
   "cell_type": "markdown",
   "metadata": {},
   "source": [
    "### 1. Business Problem : Predicting the Energy Star Score of a building:"
   ]
  },
  {
   "cell_type": "markdown",
   "metadata": {},
   "source": [
    "### 1.1  Description :\n",
    "           \n",
    "The NYC Benchmarking Law requires owners of large buildings to annually measure their energy and water consumption in a process called benchmarking. The law standardizes this process by requiring building owners to enter their annual energy and water use in the U.S. Environmental Protection Agency's (EPA) online tool, ENERGY STAR Portfolio Manager and use the tool to submit data to the City. This data informs building owners about a building's energy and water consumption compared to similar buildings, and tracks progress year over year to help in energy efficiency planning.\n",
    "\n",
    "### 1.2 objective:\n",
    "The objective that we are proposing here to achive is to use the energy data to build a model that can predict the Energy Star Score of a building(Residentail and Non Residentail spaces) and interpret the results to find the factors which influence the score or the predictions.\n",
    "\n",
    "### 1.3 Source/Useful Links:\n",
    "1. https://www1.nyc.gov/html/gbee/html/plan/ll84.shtml\n",
    "\n",
    "2. http://www.nyc.gov/html/gbee/downloads/misc/nyc_benchmarking_disclosure_data_definitions_2017.pdf\n",
    "\n",
    "\n",
    "### 1.4  Machine Learning constraints:\n",
    "1. Interpretability of the results is important.\n",
    "2. Feature importance of the data-point belonging to each class is needed to make the models more interpretable\n",
    "           \n",
    "           \n",
    "           \n",
    "           "
   ]
  },
  {
   "cell_type": "markdown",
   "metadata": {},
   "source": [
    "### 2. Machine Learning Problem Formulation :\n",
    "\n",
    "The Workflow that we will use here are as follows as guided in the assignemnt email.\n",
    "\n",
    "1. Exploratory data analysis.\n",
    "2. Data cleaning.\n",
    "3. Feature engineering.\n",
    "4. Feature selection.\n",
    "5. Making baseline Model.\n",
    "6. Use Different Machine Laerning Models to check for better performance.\n",
    "5. Hyperparameter tuning the hyperparametres of different models.\n",
    "6. Fiding the Best Machine learning model which best suits for the problem statement.\n",
    "7. Interpret the model results and reasoning for using the model.\n",
    "8. Conclusion.\n",
    "9. Final report for presentation.\n",
    "\n",
    "\n",
    "\n",
    "#### 2.1 Type of machine learning Problem \n",
    "1. As the target variable is a Continious varibale between 0-100 , so we can do it as a multiclass classification problem \n",
    "2. We can also frame it as an Regression Problem.\n",
    "\n",
    "The reason for framing it as an Regression Problem is handeling Multiclass- classification as 100 class will be very difficult to handel and will will be a very time intensive and memory intensive processes.\n",
    "\n",
    "\n",
    "#### 2.2 Error Metrix:\n",
    "\n",
    "1. For regression task data scientist have the options of \n",
    "        1. MSE (Mean squared error)\n",
    "        2. MAPE (Mean absolute percentage error)\n",
    "        3. MAE (Mean Absolute Error)\n",
    "        \n",
    "2. I have used MAE (Mean Absolute Error) in this problem as MAE (Mean Absolute Error) penalises the absolute difference between the Target and the Predicted values ."
   ]
  },
  {
   "cell_type": "markdown",
   "metadata": {},
   "source": [
    "## 3. Hypothesis for the project \n",
    "\n",
    "1. we can build a model to predict the Energy star score of a building by using the feature that are there in the dataset\n"
   ]
  },
  {
   "cell_type": "markdown",
   "metadata": {},
   "source": [
    "### 4. Context :\n",
    "\n",
    "For sustaining the Hypothesis i performed indepth analysis of the features the work flow followed is \n",
    "\n",
    "1. Exploratory data analysis : i explored every feature by univarient data analysis\n",
    "2. Data cleaning : Performed data Cleaning and scaling as many features we lacking the feature rows.\n",
    "3. Feature engineering : Performed Feature engineering on text data and Numerical data.\n",
    "4. Feature selection : Performed feature selection by using colinearity and covarience as parameters .\n",
    "5. Used Classical and Deep learning models for checking the genaralization error \n",
    "6. Hyperparametertuned the hyperparametres of all the models used.\n",
    "7. Found GBDT as the best model for this dataset \n",
    "\n",
    "After performing all the above mentioned processes , i was able to generalise my hypothesis \n"
   ]
  },
  {
   "cell_type": "markdown",
   "metadata": {},
   "source": [
    "## Conclusion :\n",
    "\n",
    "1. Indepth annalysis of the data provided and exploration of all the parameters i conclude that we can build a model that can predict the Energy star score of the building by using the dataset provided . \n",
    "\n",
    "Pointing your attention to some of the important findings :\n",
    "\n",
    "1. The important features which were very helpfull in predicting the Energy score are Site Eui , weather features ,Property id,and the type of property of use . \n",
    "\n",
    "2. Simple machine learning models with hyperparameter tuning were also able to get good generalization score on the test data .\n",
    "\n",
    "3. Complex Models like Random Forest and GBDT were very good at generalisation, and the error of both the models were competitively same .\n",
    "\n",
    "4. Neural Networks(Sequence models) had less error than the classical Machine learning Models and has very low generalization error . But we cannot use those Neural netwokrs as model interpretability will be compromised. \n",
    "\n",
    "4. Areas of imporvemnt: Given more data and time, there can be some scope of using latest machine learning models like light GBM and Catboost, did not try these algorthims as these algorithms may overfit due to lack of data, and need more time and resources for hyperparamter tuning."
   ]
  }
 ],
 "metadata": {
  "kernelspec": {
   "display_name": "Python 3",
   "language": "python",
   "name": "python3"
  },
  "language_info": {
   "codemirror_mode": {
    "name": "ipython",
    "version": 3
   },
   "file_extension": ".py",
   "mimetype": "text/x-python",
   "name": "python",
   "nbconvert_exporter": "python",
   "pygments_lexer": "ipython3",
   "version": "3.7.4"
  }
 },
 "nbformat": 4,
 "nbformat_minor": 4
}
